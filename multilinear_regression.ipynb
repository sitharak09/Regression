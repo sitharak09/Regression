{
 "cells": [
  {
   "cell_type": "code",
   "execution_count": 60,
   "metadata": {},
   "outputs": [],
   "source": [
    "import pandas as pd\n",
    "GIFT_AMOUNT = pd.read_excel(r'C:\\Users\\sithara\\Desktop\\Philanthrophy\\File\\Manage_v1.xlsx')\n",
    "df = pd.DataFrame(GIFT_AMOUNT,columns=['GIFT_AMOUNT_2018_NEW','GIFT_AMOUNT_2017_NEW','GIFT_AMOUNT_2016_NEW','GIFT_AMOUNT_2015_NEW','ENGAGEMENT_SCORE','NO_EVENTS_2018_NEW','NO_EVENTS_2017_NEW','NO_EVENTS_2016_NEW'])\n",
    "#print (df)"
   ]
  },
  {
   "cell_type": "code",
   "execution_count": 19,
   "metadata": {},
   "outputs": [],
   "source": [
    "elemapi2_sel = GIFT_AMOUNT.loc[:, ['GIFT_AMOUNT_2018_NEW','NO_EVENTS_2017_NEW']]"
   ]
  },
  {
   "cell_type": "code",
   "execution_count": 21,
   "metadata": {},
   "outputs": [
    {
     "name": "stdout",
     "output_type": "stream",
     "text": [
      "---------------------------------------- smf.ols in R formula ----------------------------------------\n",
      "\n",
      "                             OLS Regression Results                             \n",
      "================================================================================\n",
      "Dep. Variable:     GIFT_AMOUNT_2018_NEW   R-squared:                       0.000\n",
      "Model:                              OLS   Adj. R-squared:                  0.000\n",
      "Method:                   Least Squares   F-statistic:                     2.650\n",
      "Date:                  Wed, 20 Feb 2019   Prob (F-statistic):              0.104\n",
      "Time:                          20:41:06   Log-Likelihood:            -4.1435e+05\n",
      "No. Observations:                 38814   AIC:                         8.287e+05\n",
      "Df Residuals:                     38812   BIC:                         8.287e+05\n",
      "Df Model:                             1                                         \n",
      "Covariance Type:              nonrobust                                         \n",
      "======================================================================================\n",
      "                         coef    std err          t      P>|t|      [0.025      0.975]\n",
      "--------------------------------------------------------------------------------------\n",
      "Intercept             96.8607     53.861      1.798      0.072      -8.707     202.429\n",
      "NO_EVENTS_2017_NEW   160.2853     98.463      1.628      0.104     -32.705     353.276\n",
      "==============================================================================\n",
      "Omnibus:                   184849.753   Durbin-Watson:                   2.000\n",
      "Prob(Omnibus):                  0.000   Jarque-Bera (JB):    1945630743713.125\n",
      "Skew:                         182.114   Prob(JB):                         0.00\n",
      "Kurtosis:                   34686.082   Cond. No.                         1.87\n",
      "==============================================================================\n",
      "\n",
      "Warnings:\n",
      "[1] Standard Errors assume that the covariance matrix of the errors is correctly specified.\n"
     ]
    },
    {
     "data": {
      "text/plain": [
       "Text(0.5, 1.0, 'Linear Regression Plot')"
      ]
     },
     "execution_count": 21,
     "metadata": {},
     "output_type": "execute_result"
    },
    {
     "data": {
      "image/png": "[encoded data removed]",
      "text/plain": [
       "<Figure size 432x288 with 1 Axes>"
      ]
     },
     "metadata": {
      "needs_background": "light"
     },
     "output_type": "display_data"
    }
   ],
   "source": [
    "import statsmodels.formula.api as smf\n",
    "import matplotlib.pyplot as plt\n",
    "print ('-'*40 + ' smf.ols in R formula ' + '-'*40 + '\\n')\n",
    "lm = smf.ols(formula = 'GIFT_AMOUNT_2018_NEW ~NO_EVENTS_2017_NEW+NO_EVENTS_2016_NEW', data = GIFT_AMOUNT).fit()\n",
    "print (lm.summary())\n",
    "\n",
    "plt.figure()\n",
    "plt.scatter(GIFT_AMOUNT.GIFT_AMOUNT_2018_NEW, GIFT_AMOUNT.NO_EVENTS_2017_NEW, c = 'g')\n",
    "plt.plot(GIFT_AMOUNT.GIFT_AMOUNT_2018_NEW, lm.params[0] + lm.params[1] * GIFT_AMOUNT.GIFT_AMOUNT_2018_NEW)\n",
    "plt.xlabel('GIFT_AMOUNT_2018_NEW')\n",
    "plt.ylabel('NO_EVENTS_2017_NEW')\n",
    "plt.title(\"Linear Regression Plot\")"
   ]
  },
  {
   "cell_type": "code",
   "execution_count": 7,
   "metadata": {},
   "outputs": [
    {
     "name": "stdout",
     "output_type": "stream",
     "text": [
      "---------------------------------------- sm.OLS with direct input data ----------------------------------------\n",
      "\n",
      "                             OLS Regression Results                             \n",
      "================================================================================\n",
      "Dep. Variable:     GIFT_AMOUNT_2018_NEW   R-squared:                       0.047\n",
      "Model:                              OLS   Adj. R-squared:                  0.040\n",
      "Method:                   Least Squares   F-statistic:                     6.667\n",
      "Date:                  Sun, 17 Feb 2019   Prob (F-statistic):            0.00149\n",
      "Time:                          00:44:27   Log-Likelihood:                -2776.8\n",
      "No. Observations:                   275   AIC:                             5560.\n",
      "Df Residuals:                       272   BIC:                             5570.\n",
      "Df Model:                             2                                         \n",
      "Covariance Type:              nonrobust                                         \n",
      "======================================================================================\n",
      "                         coef    std err          t      P>|t|      [0.025      0.975]\n",
      "--------------------------------------------------------------------------------------\n",
      "const                121.1491    373.988      0.324      0.746    -615.130     857.428\n",
      "NO_EVENTS_2017_NEW  1659.8195    455.156      3.647      0.000     763.743    2555.896\n",
      "NO_EVENTS_2016_NEW -1035.4539    391.156     -2.647      0.009   -1805.531    -265.377\n",
      "==============================================================================\n",
      "Omnibus:                      607.237   Durbin-Watson:                   2.002\n",
      "Prob(Omnibus):                  0.000   Jarque-Bera (JB):           697014.550\n",
      "Skew:                          15.287   Prob(JB):                         0.00\n",
      "Kurtosis:                     247.736   Cond. No.                         2.53\n",
      "==============================================================================\n",
      "\n",
      "Warnings:\n",
      "[1] Standard Errors assume that the covariance matrix of the errors is correctly specified.\n"
     ]
    }
   ],
   "source": [
    "import statsmodels.api as sm\n",
    "import pandas as pd\n",
    "GIFT_AMOUNT = pd.read_excel(r'C:\\Users\\sithara\\Desktop\\Philanthrophy\\First_Time.xlsx')\n",
    "'''\n",
    "2. using data input directly\n",
    "'''\n",
    "print ('-'*40 + ' sm.OLS with direct input data ' + '-'*40 + '\\n')\n",
    "lm2 = sm.OLS(GIFT_AMOUNT['GIFT_AMOUNT_2018_NEW'], sm.add_constant(GIFT_AMOUNT[['NO_EVENTS_2017_NEW','NO_EVENTS_2016_NEW']])).fit()\n",
    "print (lm2.summary())"
   ]
  },
  {
   "cell_type": "code",
   "execution_count": 11,
   "metadata": {},
   "outputs": [
    {
     "name": "stdout",
     "output_type": "stream",
     "text": [
      "NO_EVENTS_2011             -0.310685\n",
      "NO_EVENTS_2012             -0.274721\n",
      "NO_EVENTS_2014             -0.204037\n",
      "NO_EVENTS_2013             -0.141220\n",
      "ZIPCODE                    -0.062071\n",
      "AGE_BRACKET                -0.041805\n",
      "NO_YRS_GIVING              -0.011353\n",
      "STATE_CODE_NEW              0.006993\n",
      "ID_NUMBER                   0.050561\n",
      "DEGREE_YEAR1                0.054573\n",
      "GIFT_AMOUNT_2018_NEW        0.148910\n",
      "GIFT_AMOUNT_2018            0.151231\n",
      "LIFETIME_RECOGNITION_AMT    0.152117\n",
      "LAST_GIFT_AMOUNT            0.183266\n",
      "FIRST_GIFT_AMOUNT           0.183552\n",
      "ENGAGEMENT_SCORE            0.579110\n",
      "NO_EVENTS_2015_NEW          0.580477\n",
      "0                           0.657484\n",
      "NO_EVENTS_2016_NEW          0.688124\n",
      "NO_EVENTS_2015              0.752741\n",
      "NO_EVENTS_2016              0.797089\n",
      "NO_EVENTS_2017_NEW          1.000000\n",
      "NO_EVENTS_2017              1.000000\n",
      "SCHOOL4                          NaN\n",
      "GIFT_AMOUNT_2017_NEW             NaN\n",
      "GIFT_AMOUNT_2016_NEW             NaN\n",
      "GIFT_AMOUNT_2017                 NaN\n",
      "GIFT_AMOUNT_2016                 NaN\n",
      "GIFT_AMOUNT_2015                 NaN\n",
      "GIFT_AMOUNT_2014                 NaN\n",
      "GIFT_AMOUNT_2013                 NaN\n",
      "GIFT_AMOUNT_2012                 NaN\n",
      "GIFT_AMOUNT_2011                 NaN\n",
      "GIFT_AMOUNT_2010                 NaN\n",
      "GIFT_AMOUNT_2009                 NaN\n",
      "GIFT_AMOUNT_2008                 NaN\n",
      "GIVING_SCHOOL_UNIT3              NaN\n",
      "NO_EVENTS_2010                   NaN\n",
      "NO_EVENTS_2009                   NaN\n",
      "NO_EVENTS_2008                   NaN\n",
      "Name: NO_EVENTS_2017_NEW, dtype: float64\n"
     ]
    },
    {
     "name": "stderr",
     "output_type": "stream",
     "text": [
      "C:\\Users\\sithara\\Anaconda3\\lib\\site-packages\\ipykernel_launcher.py:2: DeprecationWarning: \n",
      ".ix is deprecated. Please use\n",
      ".loc for label based indexing or\n",
      ".iloc for positional indexing\n",
      "\n",
      "See the documentation here:\n",
      "http://pandas.pydata.org/pandas-docs/stable/indexing.html#ix-indexer-is-deprecated\n",
      "  \n"
     ]
    }
   ],
   "source": [
    "# check correlation between each variable and api00\n",
    "print (GIFT_AMOUNT.corr().ix['NO_EVENTS_2017_NEW', :].sort_values())"
   ]
  },
  {
   "cell_type": "code",
   "execution_count": 56,
   "metadata": {
    "scrolled": true
   },
   "outputs": [],
   "source": [
    "i=0\n",
    "elem =[]\n",
    "elem1 = []\n",
    "elem2 = []\n",
    "GIFT_AMOUNT['NO_EVENTS_2018_NEW']=GIFT_AMOUNT.NO_EVENTS_2018_NEW.astype(int)\n",
    "GIFT_AMOUNT['NO_EVENTS_2017_NEW']=GIFT_AMOUNT.NO_EVENTS_2017_NEW.astype(int)\n",
    "GIFT_AMOUNT['NO_EVENTS_2016_NEW']=GIFT_AMOUNT.NO_EVENTS_2016_NEW.astype(int)\n",
    "GIFT_AMOUNT['NO_EVENTS_2015_NEW']=GIFT_AMOUNT.NO_EVENTS_2015_NEW.astype(int)\n",
    "elem = GIFT_AMOUNT['NO_EVENTS_2018_NEW'].tolist()\n",
    "elem1 = GIFT_AMOUNT['NO_EVENTS_2017_NEW'].tolist()\n",
    "elem2 = GIFT_AMOUNT['NO_EVENTS_2016_NEW'].tolist()\n",
    "elem3 = GIFT_AMOUNT['NO_EVENTS_2015_NEW'].tolist()\n",
    "elem1 = list(map(int, elem1))\n",
    "elem = list(map(int, elem))\n",
    "elem2 = list(map(int, elem2))\n",
    "elem3 = list(map(int, elem3))\n",
    "#print(GIFT_AMOUNT.dtypes)\n",
    "for i in range(0,len(elem)):#GIFT_AMOUNT['NO_EVENTS_2018_NEW']):\n",
    "    if elem[i]>2:\n",
    "        elem[i]=3\n",
    "i=0\n",
    "for i in range(0,len(elem1)):#GIFT_AMOUNT['NO_EVENTS_2017_NEW']):\n",
    "    if elem1[i]>2:\n",
    "        elem1[i]=3\n",
    "i=0\n",
    "for i in range(0,len(elem2)):#GIFT_AMOUNT['NO_EVENTS_2016_NEW']):\n",
    "    if elem2[i]>2:\n",
    "        elem2[i]=3\n",
    "i=0\n",
    "for i in range(0,len(elem3)):#GIFT_AMOUNT['NO_EVENTS_2015_NEW']):\n",
    "    if elem3[i]>2:\n",
    "        elem3[i]=3\n",
    "#print(elem1)\n",
    "        #list.append(elem)\n",
    "        "
   ]
  },
  {
   "cell_type": "code",
   "execution_count": 76,
   "metadata": {},
   "outputs": [
    {
     "data": {
      "text/html": [
       "<table class=\"simpletable\">\n",
       "<caption>OLS Regression Results</caption>\n",
       "<tr>\n",
       "  <th>Dep. Variable:</th>    <td>GIFT_AMOUNT_2018_NEW</td> <th>  R-squared:         </th>  <td>   0.943</td>  \n",
       "</tr>\n",
       "<tr>\n",
       "  <th>Model:</th>                     <td>OLS</td>         <th>  Adj. R-squared:    </th>  <td>   0.943</td>  \n",
       "</tr>\n",
       "<tr>\n",
       "  <th>Method:</th>               <td>Least Squares</td>    <th>  F-statistic:       </th>  <td>1.287e+05</td> \n",
       "</tr>\n",
       "<tr>\n",
       "  <th>Date:</th>               <td>Thu, 21 Feb 2019</td>   <th>  Prob (F-statistic):</th>   <td>  0.00</td>   \n",
       "</tr>\n",
       "<tr>\n",
       "  <th>Time:</th>                   <td>11:13:16</td>       <th>  Log-Likelihood:    </th> <td>-3.5872e+05</td>\n",
       "</tr>\n",
       "<tr>\n",
       "  <th>No. Observations:</th>        <td> 38814</td>        <th>  AIC:               </th>  <td>7.175e+05</td> \n",
       "</tr>\n",
       "<tr>\n",
       "  <th>Df Residuals:</th>            <td> 38808</td>        <th>  BIC:               </th>  <td>7.175e+05</td> \n",
       "</tr>\n",
       "<tr>\n",
       "  <th>Df Model:</th>                <td>     5</td>        <th>                     </th>      <td> </td>     \n",
       "</tr>\n",
       "<tr>\n",
       "  <th>Covariance Type:</th>        <td>nonrobust</td>      <th>                     </th>      <td> </td>     \n",
       "</tr>\n",
       "</table>\n",
       "<table class=\"simpletable\">\n",
       "<tr>\n",
       "            <td></td>              <th>coef</th>     <th>std err</th>      <th>t</th>      <th>P>|t|</th>  <th>[0.025</th>    <th>0.975]</th>  \n",
       "</tr>\n",
       "<tr>\n",
       "  <th>Intercept</th>            <td>    4.3252</td> <td>   12.974</td> <td>    0.333</td> <td> 0.739</td> <td>  -21.103</td> <td>   29.754</td>\n",
       "</tr>\n",
       "<tr>\n",
       "  <th>C(elem)[T.1]</th>         <td> -242.0055</td> <td>   73.898</td> <td>   -3.275</td> <td> 0.001</td> <td> -386.848</td> <td>  -97.163</td>\n",
       "</tr>\n",
       "<tr>\n",
       "  <th>C(elem)[T.2]</th>         <td>  657.7262</td> <td>  155.776</td> <td>    4.222</td> <td> 0.000</td> <td>  352.401</td> <td>  963.052</td>\n",
       "</tr>\n",
       "<tr>\n",
       "  <th>C(elem)[T.3]</th>         <td> -788.8515</td> <td>  144.387</td> <td>   -5.463</td> <td> 0.000</td> <td>-1071.853</td> <td> -505.850</td>\n",
       "</tr>\n",
       "<tr>\n",
       "  <th>GIFT_AMOUNT_2017_NEW</th> <td>   -0.0463</td> <td>    0.024</td> <td>   -1.943</td> <td> 0.052</td> <td>   -0.093</td> <td>    0.000</td>\n",
       "</tr>\n",
       "<tr>\n",
       "  <th>GIFT_AMOUNT_2016_NEW</th> <td>    2.0104</td> <td>    0.024</td> <td>   83.773</td> <td> 0.000</td> <td>    1.963</td> <td>    2.057</td>\n",
       "</tr>\n",
       "</table>\n",
       "<table class=\"simpletable\">\n",
       "<tr>\n",
       "  <th>Omnibus:</th>       <td>137301.926</td> <th>  Durbin-Watson:     </th>    <td>   2.000</td>    \n",
       "</tr>\n",
       "<tr>\n",
       "  <th>Prob(Omnibus):</th>   <td> 0.000</td>   <th>  Jarque-Bera (JB):  </th> <td>80998803779.598</td>\n",
       "</tr>\n",
       "<tr>\n",
       "  <th>Skew:</th>            <td>70.045</td>   <th>  Prob(JB):          </th>    <td>    0.00</td>    \n",
       "</tr>\n",
       "<tr>\n",
       "  <th>Kurtosis:</th>       <td>7078.638</td>  <th>  Cond. No.          </th>    <td>9.02e+04</td>    \n",
       "</tr>\n",
       "</table><br/><br/>Warnings:<br/>[1] Standard Errors assume that the covariance matrix of the errors is correctly specified.<br/>[2] The condition number is large, 9.02e+04. This might indicate that there are<br/>strong multicollinearity or other numerical problems."
      ],
      "text/plain": [
       "<class 'statsmodels.iolib.summary.Summary'>\n",
       "\"\"\"\n",
       "                             OLS Regression Results                             \n",
       "================================================================================\n",
       "Dep. Variable:     GIFT_AMOUNT_2018_NEW   R-squared:                       0.943\n",
       "Model:                              OLS   Adj. R-squared:                  0.943\n",
       "Method:                   Least Squares   F-statistic:                 1.287e+05\n",
       "Date:                  Thu, 21 Feb 2019   Prob (F-statistic):               0.00\n",
       "Time:                          11:13:16   Log-Likelihood:            -3.5872e+05\n",
       "No. Observations:                 38814   AIC:                         7.175e+05\n",
       "Df Residuals:                     38808   BIC:                         7.175e+05\n",
       "Df Model:                             5                                         \n",
       "Covariance Type:              nonrobust                                         \n",
       "========================================================================================\n",
       "                           coef    std err          t      P>|t|      [0.025      0.975]\n",
       "----------------------------------------------------------------------------------------\n",
       "Intercept                4.3252     12.974      0.333      0.739     -21.103      29.754\n",
       "C(elem)[T.1]          -242.0055     73.898     -3.275      0.001    -386.848     -97.163\n",
       "C(elem)[T.2]           657.7262    155.776      4.222      0.000     352.401     963.052\n",
       "C(elem)[T.3]          -788.8515    144.387     -5.463      0.000   -1071.853    -505.850\n",
       "GIFT_AMOUNT_2017_NEW    -0.0463      0.024     -1.943      0.052      -0.093       0.000\n",
       "GIFT_AMOUNT_2016_NEW     2.0104      0.024     83.773      0.000       1.963       2.057\n",
       "==============================================================================\n",
       "Omnibus:                   137301.926   Durbin-Watson:                   2.000\n",
       "Prob(Omnibus):                  0.000   Jarque-Bera (JB):      80998803779.598\n",
       "Skew:                          70.045   Prob(JB):                         0.00\n",
       "Kurtosis:                    7078.638   Cond. No.                     9.02e+04\n",
       "==============================================================================\n",
       "\n",
       "Warnings:\n",
       "[1] Standard Errors assume that the covariance matrix of the errors is correctly specified.\n",
       "[2] The condition number is large, 9.02e+04. This might indicate that there are\n",
       "strong multicollinearity or other numerical problems.\n",
       "\"\"\""
      ]
     },
     "execution_count": 76,
     "metadata": {},
     "output_type": "execute_result"
    }
   ],
   "source": [
    "import statsmodels.formula.api as smf\n",
    "lm = lm = smf.ols('GIFT_AMOUNT_2018_NEW ~ GIFT_AMOUNT_2017_NEW+GIFT_AMOUNT_2016_NEW+C(elem)', data = GIFT_AMOUNT).fit()\n",
    "lm.summary()"
   ]
  },
  {
   "cell_type": "code",
   "execution_count": 13,
   "metadata": {},
   "outputs": [
    {
     "name": "stderr",
     "output_type": "stream",
     "text": [
      "C:\\Users\\sithara\\Anaconda3\\lib\\site-packages\\sklearn\\preprocessing\\_encoders.py:368: FutureWarning: The handling of integer data will change in version 0.22. Currently, the categories are determined based on the range [0, max(values)], while in the future they will be determined based on the unique values.\n",
      "If you want the future behaviour and silence this warning, you can specify \"categories='auto'\".\n",
      "In case you used a LabelEncoder before this OneHotEncoder to convert the categories to integers, then you can now use the OneHotEncoder directly.\n",
      "  warnings.warn(msg, FutureWarning)\n"
     ]
    },
    {
     "ename": "ValueError",
     "evalue": "Shape of passed values is (4, 38814), indices imply (3, 38814)",
     "output_type": "error",
     "traceback": [
      "\u001b[1;31m---------------------------------------------------------------------------\u001b[0m",
      "\u001b[1;31mValueError\u001b[0m                                Traceback (most recent call last)",
      "\u001b[1;32m~\\Anaconda3\\lib\\site-packages\\pandas\\core\\internals.py\u001b[0m in \u001b[0;36mcreate_block_manager_from_blocks\u001b[1;34m(blocks, axes)\u001b[0m\n\u001b[0;32m   4856\u001b[0m                 blocks = [make_block(values=blocks[0],\n\u001b[1;32m-> 4857\u001b[1;33m                                      placement=slice(0, len(axes[0])))]\n\u001b[0m\u001b[0;32m   4858\u001b[0m \u001b[1;33m\u001b[0m\u001b[0m\n",
      "\u001b[1;32m~\\Anaconda3\\lib\\site-packages\\pandas\\core\\internals.py\u001b[0m in \u001b[0;36mmake_block\u001b[1;34m(values, placement, klass, ndim, dtype, fastpath)\u001b[0m\n\u001b[0;32m   3204\u001b[0m \u001b[1;33m\u001b[0m\u001b[0m\n\u001b[1;32m-> 3205\u001b[1;33m     \u001b[1;32mreturn\u001b[0m \u001b[0mklass\u001b[0m\u001b[1;33m(\u001b[0m\u001b[0mvalues\u001b[0m\u001b[1;33m,\u001b[0m \u001b[0mndim\u001b[0m\u001b[1;33m=\u001b[0m\u001b[0mndim\u001b[0m\u001b[1;33m,\u001b[0m \u001b[0mplacement\u001b[0m\u001b[1;33m=\u001b[0m\u001b[0mplacement\u001b[0m\u001b[1;33m)\u001b[0m\u001b[1;33m\u001b[0m\u001b[1;33m\u001b[0m\u001b[0m\n\u001b[0m\u001b[0;32m   3206\u001b[0m \u001b[1;33m\u001b[0m\u001b[0m\n",
      "\u001b[1;32m~\\Anaconda3\\lib\\site-packages\\pandas\\core\\internals.py\u001b[0m in \u001b[0;36m__init__\u001b[1;34m(self, values, placement, ndim)\u001b[0m\n\u001b[0;32m    124\u001b[0m                 \u001b[1;34m'Wrong number of items passed {val}, placement implies '\u001b[0m\u001b[1;33m\u001b[0m\u001b[1;33m\u001b[0m\u001b[0m\n\u001b[1;32m--> 125\u001b[1;33m                 '{mgr}'.format(val=len(self.values), mgr=len(self.mgr_locs)))\n\u001b[0m\u001b[0;32m    126\u001b[0m \u001b[1;33m\u001b[0m\u001b[0m\n",
      "\u001b[1;31mValueError\u001b[0m: Wrong number of items passed 4, placement implies 3",
      "\nDuring handling of the above exception, another exception occurred:\n",
      "\u001b[1;31mValueError\u001b[0m                                Traceback (most recent call last)",
      "\u001b[1;32m<ipython-input-13-e65bbd7ea2de>\u001b[0m in \u001b[0;36m<module>\u001b[1;34m\u001b[0m\n\u001b[0;32m     17\u001b[0m \u001b[1;33m\u001b[0m\u001b[0m\n\u001b[0;32m     18\u001b[0m \u001b[0mohe\u001b[0m \u001b[1;33m=\u001b[0m \u001b[0mpreprocessing\u001b[0m\u001b[1;33m.\u001b[0m\u001b[0mOneHotEncoder\u001b[0m\u001b[1;33m(\u001b[0m\u001b[1;33m)\u001b[0m\u001b[1;33m\u001b[0m\u001b[1;33m\u001b[0m\u001b[0m\n\u001b[1;32m---> 19\u001b[1;33m \u001b[0mdummy\u001b[0m \u001b[1;33m=\u001b[0m \u001b[0mpd\u001b[0m\u001b[1;33m.\u001b[0m\u001b[0mDataFrame\u001b[0m\u001b[1;33m(\u001b[0m\u001b[0mohe\u001b[0m\u001b[1;33m.\u001b[0m\u001b[0mfit_transform\u001b[0m\u001b[1;33m(\u001b[0m\u001b[0mmyarray\u001b[0m\u001b[1;33m.\u001b[0m\u001b[0mreshape\u001b[0m\u001b[1;33m(\u001b[0m\u001b[1;33m-\u001b[0m\u001b[1;36m1\u001b[0m\u001b[1;33m,\u001b[0m\u001b[1;36m1\u001b[0m\u001b[1;33m)\u001b[0m\u001b[1;33m)\u001b[0m\u001b[1;33m.\u001b[0m\u001b[0mtoarray\u001b[0m\u001b[1;33m(\u001b[0m\u001b[1;33m)\u001b[0m\u001b[1;33m,\u001b[0m \u001b[0mcolumns\u001b[0m \u001b[1;33m=\u001b[0m \u001b[1;33m[\u001b[0m\u001b[1;34m\"mealcat1\"\u001b[0m\u001b[1;33m,\u001b[0m \u001b[1;34m\"mealcat2\"\u001b[0m\u001b[1;33m,\u001b[0m \u001b[1;34m\"mealcat3\"\u001b[0m\u001b[1;33m]\u001b[0m\u001b[1;33m)\u001b[0m\u001b[1;33m\u001b[0m\u001b[1;33m\u001b[0m\u001b[0m\n\u001b[0m\u001b[0;32m     20\u001b[0m \u001b[0melemapi2_sel\u001b[0m \u001b[1;33m=\u001b[0m \u001b[0mpd\u001b[0m\u001b[1;33m.\u001b[0m\u001b[0mconcat\u001b[0m\u001b[1;33m(\u001b[0m\u001b[1;33m[\u001b[0m\u001b[0mGIFT_AMOUNT\u001b[0m\u001b[1;33m,\u001b[0m \u001b[0mdummy\u001b[0m\u001b[1;33m]\u001b[0m\u001b[1;33m,\u001b[0m \u001b[0maxis\u001b[0m \u001b[1;33m=\u001b[0m \u001b[1;36m1\u001b[0m\u001b[1;33m)\u001b[0m\u001b[1;33m\u001b[0m\u001b[1;33m\u001b[0m\u001b[0m\n",
      "\u001b[1;32m~\\Anaconda3\\lib\\site-packages\\pandas\\core\\frame.py\u001b[0m in \u001b[0;36m__init__\u001b[1;34m(self, data, index, columns, dtype, copy)\u001b[0m\n\u001b[0;32m    377\u001b[0m             \u001b[1;32melse\u001b[0m\u001b[1;33m:\u001b[0m\u001b[1;33m\u001b[0m\u001b[1;33m\u001b[0m\u001b[0m\n\u001b[0;32m    378\u001b[0m                 mgr = self._init_ndarray(data, index, columns, dtype=dtype,\n\u001b[1;32m--> 379\u001b[1;33m                                          copy=copy)\n\u001b[0m\u001b[0;32m    380\u001b[0m         \u001b[1;32melif\u001b[0m \u001b[0misinstance\u001b[0m\u001b[1;33m(\u001b[0m\u001b[0mdata\u001b[0m\u001b[1;33m,\u001b[0m \u001b[1;33m(\u001b[0m\u001b[0mlist\u001b[0m\u001b[1;33m,\u001b[0m \u001b[0mtypes\u001b[0m\u001b[1;33m.\u001b[0m\u001b[0mGeneratorType\u001b[0m\u001b[1;33m)\u001b[0m\u001b[1;33m)\u001b[0m\u001b[1;33m:\u001b[0m\u001b[1;33m\u001b[0m\u001b[1;33m\u001b[0m\u001b[0m\n\u001b[0;32m    381\u001b[0m             \u001b[1;32mif\u001b[0m \u001b[0misinstance\u001b[0m\u001b[1;33m(\u001b[0m\u001b[0mdata\u001b[0m\u001b[1;33m,\u001b[0m \u001b[0mtypes\u001b[0m\u001b[1;33m.\u001b[0m\u001b[0mGeneratorType\u001b[0m\u001b[1;33m)\u001b[0m\u001b[1;33m:\u001b[0m\u001b[1;33m\u001b[0m\u001b[1;33m\u001b[0m\u001b[0m\n",
      "\u001b[1;32m~\\Anaconda3\\lib\\site-packages\\pandas\\core\\frame.py\u001b[0m in \u001b[0;36m_init_ndarray\u001b[1;34m(self, values, index, columns, dtype, copy)\u001b[0m\n\u001b[0;32m    534\u001b[0m             \u001b[0mvalues\u001b[0m \u001b[1;33m=\u001b[0m \u001b[0mmaybe_infer_to_datetimelike\u001b[0m\u001b[1;33m(\u001b[0m\u001b[0mvalues\u001b[0m\u001b[1;33m)\u001b[0m\u001b[1;33m\u001b[0m\u001b[1;33m\u001b[0m\u001b[0m\n\u001b[0;32m    535\u001b[0m \u001b[1;33m\u001b[0m\u001b[0m\n\u001b[1;32m--> 536\u001b[1;33m         \u001b[1;32mreturn\u001b[0m \u001b[0mcreate_block_manager_from_blocks\u001b[0m\u001b[1;33m(\u001b[0m\u001b[1;33m[\u001b[0m\u001b[0mvalues\u001b[0m\u001b[1;33m]\u001b[0m\u001b[1;33m,\u001b[0m \u001b[1;33m[\u001b[0m\u001b[0mcolumns\u001b[0m\u001b[1;33m,\u001b[0m \u001b[0mindex\u001b[0m\u001b[1;33m]\u001b[0m\u001b[1;33m)\u001b[0m\u001b[1;33m\u001b[0m\u001b[1;33m\u001b[0m\u001b[0m\n\u001b[0m\u001b[0;32m    537\u001b[0m \u001b[1;33m\u001b[0m\u001b[0m\n\u001b[0;32m    538\u001b[0m     \u001b[1;33m@\u001b[0m\u001b[0mproperty\u001b[0m\u001b[1;33m\u001b[0m\u001b[1;33m\u001b[0m\u001b[0m\n",
      "\u001b[1;32m~\\Anaconda3\\lib\\site-packages\\pandas\\core\\internals.py\u001b[0m in \u001b[0;36mcreate_block_manager_from_blocks\u001b[1;34m(blocks, axes)\u001b[0m\n\u001b[0;32m   4864\u001b[0m         \u001b[0mblocks\u001b[0m \u001b[1;33m=\u001b[0m \u001b[1;33m[\u001b[0m\u001b[0mgetattr\u001b[0m\u001b[1;33m(\u001b[0m\u001b[0mb\u001b[0m\u001b[1;33m,\u001b[0m \u001b[1;34m'values'\u001b[0m\u001b[1;33m,\u001b[0m \u001b[0mb\u001b[0m\u001b[1;33m)\u001b[0m \u001b[1;32mfor\u001b[0m \u001b[0mb\u001b[0m \u001b[1;32min\u001b[0m \u001b[0mblocks\u001b[0m\u001b[1;33m]\u001b[0m\u001b[1;33m\u001b[0m\u001b[1;33m\u001b[0m\u001b[0m\n\u001b[0;32m   4865\u001b[0m         \u001b[0mtot_items\u001b[0m \u001b[1;33m=\u001b[0m \u001b[0msum\u001b[0m\u001b[1;33m(\u001b[0m\u001b[0mb\u001b[0m\u001b[1;33m.\u001b[0m\u001b[0mshape\u001b[0m\u001b[1;33m[\u001b[0m\u001b[1;36m0\u001b[0m\u001b[1;33m]\u001b[0m \u001b[1;32mfor\u001b[0m \u001b[0mb\u001b[0m \u001b[1;32min\u001b[0m \u001b[0mblocks\u001b[0m\u001b[1;33m)\u001b[0m\u001b[1;33m\u001b[0m\u001b[1;33m\u001b[0m\u001b[0m\n\u001b[1;32m-> 4866\u001b[1;33m         \u001b[0mconstruction_error\u001b[0m\u001b[1;33m(\u001b[0m\u001b[0mtot_items\u001b[0m\u001b[1;33m,\u001b[0m \u001b[0mblocks\u001b[0m\u001b[1;33m[\u001b[0m\u001b[1;36m0\u001b[0m\u001b[1;33m]\u001b[0m\u001b[1;33m.\u001b[0m\u001b[0mshape\u001b[0m\u001b[1;33m[\u001b[0m\u001b[1;36m1\u001b[0m\u001b[1;33m:\u001b[0m\u001b[1;33m]\u001b[0m\u001b[1;33m,\u001b[0m \u001b[0maxes\u001b[0m\u001b[1;33m,\u001b[0m \u001b[0me\u001b[0m\u001b[1;33m)\u001b[0m\u001b[1;33m\u001b[0m\u001b[1;33m\u001b[0m\u001b[0m\n\u001b[0m\u001b[0;32m   4867\u001b[0m \u001b[1;33m\u001b[0m\u001b[0m\n\u001b[0;32m   4868\u001b[0m \u001b[1;33m\u001b[0m\u001b[0m\n",
      "\u001b[1;32m~\\Anaconda3\\lib\\site-packages\\pandas\\core\\internals.py\u001b[0m in \u001b[0;36mconstruction_error\u001b[1;34m(tot_items, block_shape, axes, e)\u001b[0m\n\u001b[0;32m   4841\u001b[0m         \u001b[1;32mraise\u001b[0m \u001b[0mValueError\u001b[0m\u001b[1;33m(\u001b[0m\u001b[1;34m\"Empty data passed with indices specified.\"\u001b[0m\u001b[1;33m)\u001b[0m\u001b[1;33m\u001b[0m\u001b[1;33m\u001b[0m\u001b[0m\n\u001b[0;32m   4842\u001b[0m     raise ValueError(\"Shape of passed values is {0}, indices imply {1}\".format(\n\u001b[1;32m-> 4843\u001b[1;33m         passed, implied))\n\u001b[0m\u001b[0;32m   4844\u001b[0m \u001b[1;33m\u001b[0m\u001b[0m\n\u001b[0;32m   4845\u001b[0m \u001b[1;33m\u001b[0m\u001b[0m\n",
      "\u001b[1;31mValueError\u001b[0m: Shape of passed values is (4, 38814), indices imply (3, 38814)"
     ]
    }
   ],
   "source": [
    "from sklearn import preprocessing\n",
    "import numpy as np\n",
    "import itertools\n",
    "from itertools import chain, combinations\n",
    "import statsmodels.formula.api as smf\n",
    "import scipy.stats as scipystats\n",
    "import statsmodels.api as sm\n",
    "import statsmodels.stats.stattools as stools\n",
    "import statsmodels.stats as stats\n",
    "le_mealcat = preprocessing.LabelEncoder()\n",
    "\n",
    "myarray = np.asarray(elem)\n",
    "GIFT_AMOUNT['event18_dummy'] = le_mealcat.fit_transform(myarray)\n",
    "\n",
    "GIFT_AMOUNT.groupby('event18_dummy').size()\n",
    "\n",
    "\n",
    "ohe = preprocessing.OneHotEncoder()\n",
    "dummy = pd.DataFrame(ohe.fit_transform(myarray.reshape(-1,1)).toarray(), columns = [\"mealcat1\", \"mealcat2\", \"mealcat3\"])\n",
    "elemapi2_sel = pd.concat([GIFT_AMOUNT, dummy], axis = 1)"
   ]
  },
  {
   "cell_type": "code",
   "execution_count": 48,
   "metadata": {},
   "outputs": [
    {
     "data": {
      "text/html": [
       "<table class=\"simpletable\">\n",
       "<caption>OLS Regression Results</caption>\n",
       "<tr>\n",
       "  <th>Dep. Variable:</th>    <td>GIFT_AMOUNT_2018_NEW</td> <th>  R-squared:         </th> <td>   0.050</td>\n",
       "</tr>\n",
       "<tr>\n",
       "  <th>Model:</th>                     <td>OLS</td>         <th>  Adj. R-squared:    </th> <td>   0.043</td>\n",
       "</tr>\n",
       "<tr>\n",
       "  <th>Method:</th>               <td>Least Squares</td>    <th>  F-statistic:       </th> <td>   7.147</td>\n",
       "</tr>\n",
       "<tr>\n",
       "  <th>Date:</th>               <td>Sun, 17 Feb 2019</td>   <th>  Prob (F-statistic):</th> <td>0.000944</td>\n",
       "</tr>\n",
       "<tr>\n",
       "  <th>Time:</th>                   <td>12:16:19</td>       <th>  Log-Likelihood:    </th> <td> -2776.3</td>\n",
       "</tr>\n",
       "<tr>\n",
       "  <th>No. Observations:</th>        <td>   275</td>        <th>  AIC:               </th> <td>   5559.</td>\n",
       "</tr>\n",
       "<tr>\n",
       "  <th>Df Residuals:</th>            <td>   272</td>        <th>  BIC:               </th> <td>   5569.</td>\n",
       "</tr>\n",
       "<tr>\n",
       "  <th>Df Model:</th>                <td>     2</td>        <th>                     </th>     <td> </td>   \n",
       "</tr>\n",
       "<tr>\n",
       "  <th>Covariance Type:</th>        <td>nonrobust</td>      <th>                     </th>     <td> </td>   \n",
       "</tr>\n",
       "</table>\n",
       "<table class=\"simpletable\">\n",
       "<tr>\n",
       "      <td></td>         <th>coef</th>     <th>std err</th>      <th>t</th>      <th>P>|t|</th>  <th>[0.025</th>    <th>0.975]</th>  \n",
       "</tr>\n",
       "<tr>\n",
       "  <th>Intercept</th> <td>   81.6180</td> <td>  390.520</td> <td>    0.209</td> <td> 0.835</td> <td> -687.207</td> <td>  850.443</td>\n",
       "</tr>\n",
       "<tr>\n",
       "  <th>mealcat2</th>  <td>   -3.1537</td> <td> 1180.820</td> <td>   -0.003</td> <td> 0.998</td> <td>-2327.863</td> <td> 2321.555</td>\n",
       "</tr>\n",
       "<tr>\n",
       "  <th>mealcat3</th>  <td> 5300.7015</td> <td> 1408.039</td> <td>    3.765</td> <td> 0.000</td> <td> 2528.662</td> <td> 8072.741</td>\n",
       "</tr>\n",
       "</table>\n",
       "<table class=\"simpletable\">\n",
       "<tr>\n",
       "  <th>Omnibus:</th>       <td>606.102</td> <th>  Durbin-Watson:     </th>  <td>   2.001</td> \n",
       "</tr>\n",
       "<tr>\n",
       "  <th>Prob(Omnibus):</th> <td> 0.000</td>  <th>  Jarque-Bera (JB):  </th> <td>689702.553</td>\n",
       "</tr>\n",
       "<tr>\n",
       "  <th>Skew:</th>          <td>15.225</td>  <th>  Prob(JB):          </th>  <td>    0.00</td> \n",
       "</tr>\n",
       "<tr>\n",
       "  <th>Kurtosis:</th>      <td>246.444</td> <th>  Cond. No.          </th>  <td>    4.05</td> \n",
       "</tr>\n",
       "</table><br/><br/>Warnings:<br/>[1] Standard Errors assume that the covariance matrix of the errors is correctly specified."
      ],
      "text/plain": [
       "<class 'statsmodels.iolib.summary.Summary'>\n",
       "\"\"\"\n",
       "                             OLS Regression Results                             \n",
       "================================================================================\n",
       "Dep. Variable:     GIFT_AMOUNT_2018_NEW   R-squared:                       0.050\n",
       "Model:                              OLS   Adj. R-squared:                  0.043\n",
       "Method:                   Least Squares   F-statistic:                     7.147\n",
       "Date:                  Sun, 17 Feb 2019   Prob (F-statistic):           0.000944\n",
       "Time:                          12:16:19   Log-Likelihood:                -2776.3\n",
       "No. Observations:                   275   AIC:                             5559.\n",
       "Df Residuals:                       272   BIC:                             5569.\n",
       "Df Model:                             2                                         \n",
       "Covariance Type:              nonrobust                                         \n",
       "==============================================================================\n",
       "                 coef    std err          t      P>|t|      [0.025      0.975]\n",
       "------------------------------------------------------------------------------\n",
       "Intercept     81.6180    390.520      0.209      0.835    -687.207     850.443\n",
       "mealcat2      -3.1537   1180.820     -0.003      0.998   -2327.863    2321.555\n",
       "mealcat3    5300.7015   1408.039      3.765      0.000    2528.662    8072.741\n",
       "==============================================================================\n",
       "Omnibus:                      606.102   Durbin-Watson:                   2.001\n",
       "Prob(Omnibus):                  0.000   Jarque-Bera (JB):           689702.553\n",
       "Skew:                          15.225   Prob(JB):                         0.00\n",
       "Kurtosis:                     246.444   Cond. No.                         4.05\n",
       "==============================================================================\n",
       "\n",
       "Warnings:\n",
       "[1] Standard Errors assume that the covariance matrix of the errors is correctly specified.\n",
       "\"\"\""
      ]
     },
     "execution_count": 48,
     "metadata": {},
     "output_type": "execute_result"
    }
   ],
   "source": [
    "lm = smf.ols('GIFT_AMOUNT_2018_NEW  ~ mealcat2 + mealcat3', data = elemapi2_sel).fit()\n",
    "lm.summary()"
   ]
  },
  {
   "cell_type": "code",
   "execution_count": null,
   "metadata": {},
   "outputs": [],
   "source": []
  }
 ],
 "metadata": {
  "kernelspec": {
   "display_name": "Python 3",
   "language": "python",
   "name": "python3"
  },
  "language_info": {
   "codemirror_mode": {
    "name": "ipython",
    "version": 3
   },
   "file_extension": ".py",
   "mimetype": "text/x-python",
   "name": "python",
   "nbconvert_exporter": "python",
   "pygments_lexer": "ipython3",
   "version": "3.7.1"
  }
 },
 "nbformat": 4,
 "nbformat_minor": 2
}
